{
  "nbformat": 4,
  "nbformat_minor": 0,
  "metadata": {
    "colab": {
      "provenance": [],
      "authorship_tag": "ABX9TyO2/2t2QR8PTgn2oH9JduHb",
      "include_colab_link": true
    },
    "kernelspec": {
      "name": "python3",
      "display_name": "Python 3"
    },
    "language_info": {
      "name": "python"
    }
  },
  "cells": [
    {
      "cell_type": "markdown",
      "metadata": {
        "id": "view-in-github",
        "colab_type": "text"
      },
      "source": [
        "<a href=\"https://colab.research.google.com/github/PrinceRaj1161/Machine-learning/blob/main/KaggleOne.ipynb\" target=\"_parent\"><img src=\"https://colab.research.google.com/assets/colab-badge.svg\" alt=\"Open In Colab\"/></a>"
      ]
    },
    {
      "cell_type": "markdown",
      "source": [
        "#Arithmetic and Variables"
      ],
      "metadata": {
        "id": "6oxCsKJ_vhEv"
      }
    },
    {
      "cell_type": "code",
      "execution_count": 1,
      "metadata": {
        "colab": {
          "base_uri": "https://localhost:8080/"
        },
        "id": "m2aKVFF1ubif",
        "outputId": "79018b33-a629-45d1-b873-8505731757ec"
      },
      "outputs": [
        {
          "output_type": "stream",
          "name": "stdout",
          "text": [
            "Hello World\n"
          ]
        }
      ],
      "source": [
        "#Printing\n",
        "print(\"Hello World\")"
      ]
    },
    {
      "cell_type": "code",
      "source": [
        "#Arithmatic\n",
        "\n",
        "#Sum\n",
        "print(\"Sum\")\n",
        "print(1+2)\n",
        "\n",
        "#Difference\n",
        "print(\"Difference\")\n",
        "print(9-5)\n",
        "\n",
        "#Multiplication\n",
        "print(\"Multiplication\")\n",
        "print(9*3)\n",
        "\n",
        "#Division\n",
        "print(\"Division\")\n",
        "print(9/2) #Automatically converts to float\n",
        "print(9/3)\n",
        "\n",
        "#exponent\n",
        "print(\"Exponent\")\n",
        "print(2**3)"
      ],
      "metadata": {
        "colab": {
          "base_uri": "https://localhost:8080/"
        },
        "id": "z1E51ZJlv0ma",
        "outputId": "4e0fd114-610e-4cc1-f697-cc07b3e6316e"
      },
      "execution_count": 2,
      "outputs": [
        {
          "output_type": "stream",
          "name": "stdout",
          "text": [
            "Sum\n",
            "3\n",
            "Difference\n",
            "4\n",
            "Multiplication\n",
            "27\n",
            "Division\n",
            "4.5\n",
            "3.0\n",
            "Exponent\n",
            "8\n"
          ]
        }
      ]
    },
    {
      "cell_type": "code",
      "source": [
        "#Expression\n",
        "#Python also follow PEMDAS rule\n",
        "\n",
        "print(((1+3)*(9-2)/2)**2)"
      ],
      "metadata": {
        "colab": {
          "base_uri": "https://localhost:8080/"
        },
        "id": "k5hKcwUzww4n",
        "outputId": "01e99811-72b4-4211-b884-bdc3eab8fa85"
      },
      "execution_count": 3,
      "outputs": [
        {
          "output_type": "stream",
          "name": "stdout",
          "text": [
            "196.0\n"
          ]
        }
      ]
    },
    {
      "cell_type": "markdown",
      "source": [
        "##Variables"
      ],
      "metadata": {
        "id": "T0AU1iGXx1We"
      }
    },
    {
      "cell_type": "code",
      "source": [
        "#Assigning variables while performing airthmetic operation\n",
        "text_var =  4+5\n",
        "print(text_var)"
      ],
      "metadata": {
        "colab": {
          "base_uri": "https://localhost:8080/"
        },
        "id": "6HIfZf0Px3cf",
        "outputId": "c66349d4-af57-4c80-c436-3c4fbccaa219"
      },
      "execution_count": 4,
      "outputs": [
        {
          "output_type": "stream",
          "name": "stdout",
          "text": [
            "9\n"
          ]
        }
      ]
    },
    {
      "cell_type": "code",
      "source": [
        "#Manipulating Variables\n",
        "var = 3\n",
        "print(var)\n",
        "\n",
        "#Now changing it to 100\n",
        "var=100\n",
        "print(var)"
      ],
      "metadata": {
        "colab": {
          "base_uri": "https://localhost:8080/"
        },
        "id": "ihb5n-gryuaX",
        "outputId": "e73e0aeb-e8ad-4b38-ba27-3c59aa339062"
      },
      "execution_count": 5,
      "outputs": [
        {
          "output_type": "stream",
          "name": "stdout",
          "text": [
            "3\n",
            "100\n"
          ]
        }
      ]
    },
    {
      "cell_type": "code",
      "source": [
        "#We can access the variable at any time used above\n",
        "print(text_var)\n",
        "print(var)"
      ],
      "metadata": {
        "colab": {
          "base_uri": "https://localhost:8080/"
        },
        "id": "8kUpOfQUzL60",
        "outputId": "83feacaf-7713-4050-8ce2-85529a35efed"
      },
      "execution_count": 6,
      "outputs": [
        {
          "output_type": "stream",
          "name": "stdout",
          "text": [
            "9\n",
            "100\n"
          ]
        }
      ]
    },
    {
      "cell_type": "code",
      "source": [
        "#Performing operation with variables\n",
        "\n",
        "#We will increase text_var with 3\n",
        "text_var=text_var+3\n",
        "print(text_var)"
      ],
      "metadata": {
        "colab": {
          "base_uri": "https://localhost:8080/"
        },
        "id": "HwYIRL12zZCa",
        "outputId": "009e032d-763a-4f7b-d8ad-d7e23400ebb0"
      },
      "execution_count": 7,
      "outputs": [
        {
          "output_type": "stream",
          "name": "stdout",
          "text": [
            "12\n"
          ]
        }
      ]
    },
    {
      "cell_type": "markdown",
      "source": [
        "###Using Multiple variables"
      ],
      "metadata": {
        "id": "-CweVMRzzuyW"
      }
    },
    {
      "cell_type": "code",
      "source": [
        "#Create variables\n",
        "years=4\n",
        "day=365\n",
        "min=60\n",
        "hour=24\n",
        "sec=60\n",
        "\n",
        "#Performing operation\n",
        "total_sec=sec*min*hour*day*years\n",
        "\n",
        "print(total_sec)\n"
      ],
      "metadata": {
        "colab": {
          "base_uri": "https://localhost:8080/"
        },
        "id": "UID7jd1Mzyzt",
        "outputId": "7d880b65-a9cb-47fd-85d0-04fd21031625"
      },
      "execution_count": 8,
      "outputs": [
        {
          "output_type": "stream",
          "name": "stdout",
          "text": [
            "126144000\n"
          ]
        }
      ]
    },
    {
      "cell_type": "markdown",
      "source": [
        "# Functions"
      ],
      "metadata": {
        "id": "eDmHpOkf2Bo7"
      }
    },
    {
      "cell_type": "code",
      "source": [
        "#Defining a functiom\n",
        "\n",
        "def add_three(input_var):\n",
        "  return input_var+3"
      ],
      "metadata": {
        "id": "7_Jyo89S2Dqk"
      },
      "execution_count": 9,
      "outputs": []
    },
    {
      "cell_type": "code",
      "source": [
        "#Calling a function\n",
        "num = add_three(10)\n",
        "print(num)"
      ],
      "metadata": {
        "colab": {
          "base_uri": "https://localhost:8080/"
        },
        "id": "uNAtJZEv21Ql",
        "outputId": "89f1eb1d-eb23-4236-9ed7-4f8e1794ef36"
      },
      "execution_count": 10,
      "outputs": [
        {
          "output_type": "stream",
          "name": "stdout",
          "text": [
            "13\n"
          ]
        }
      ]
    },
    {
      "cell_type": "code",
      "source": [
        "#A complex example\n",
        "def get_pay(num_hour):\n",
        "  pay_pertax=num_hour*15\n",
        "  pay_aftertax=pay_pertax*(1-0.12)\n",
        "  return pay_aftertax"
      ],
      "metadata": {
        "id": "kyhpOlmS3aRz"
      },
      "execution_count": 11,
      "outputs": []
    },
    {
      "cell_type": "code",
      "source": [
        "pay_fulltime=get_pay(40)\n",
        "print(pay_fulltime)"
      ],
      "metadata": {
        "colab": {
          "base_uri": "https://localhost:8080/"
        },
        "id": "1NG8iML13-Id",
        "outputId": "e66406a3-8e81-4cb9-dcec-2698485bd060"
      },
      "execution_count": 12,
      "outputs": [
        {
          "output_type": "stream",
          "name": "stdout",
          "text": [
            "528.0\n"
          ]
        }
      ]
    },
    {
      "cell_type": "code",
      "source": [
        "pay_partime = get_pay(32)\n",
        "print(pay_partime)"
      ],
      "metadata": {
        "colab": {
          "base_uri": "https://localhost:8080/"
        },
        "id": "XkvsO5Zb4KYi",
        "outputId": "86d3fa0a-c1ea-43a4-b8eb-401a29d5d557"
      },
      "execution_count": 13,
      "outputs": [
        {
          "output_type": "stream",
          "name": "stdout",
          "text": [
            "422.4\n"
          ]
        }
      ]
    },
    {
      "cell_type": "code",
      "source": [
        "#Function with multiple arguments\n",
        "def get_pay_with_more_inputs(num_hours,hourly_wage,tax_bracket):\n",
        "  total_pay=num_hours*hourly_wage\n",
        "  pay_aftertax=total_pay*(1-tax_bracket/100)\n",
        "  return pay_aftertax"
      ],
      "metadata": {
        "id": "yqADJdVq4gob"
      },
      "execution_count": 14,
      "outputs": []
    },
    {
      "cell_type": "code",
      "source": [
        "#Calling function\n",
        "high_pay=get_pay_with_more_inputs(40,24,22)\n",
        "print(high_pay)"
      ],
      "metadata": {
        "colab": {
          "base_uri": "https://localhost:8080/"
        },
        "id": "xgMH7sit5f8H",
        "outputId": "35545e15-1d57-4401-ff2c-66486cc43665"
      },
      "execution_count": 15,
      "outputs": [
        {
          "output_type": "stream",
          "name": "stdout",
          "text": [
            "748.8000000000001\n"
          ]
        }
      ]
    },
    {
      "cell_type": "code",
      "source": [
        "pay_full=get_pay_with_more_inputs(40,15,12)\n",
        "print(pay_full)"
      ],
      "metadata": {
        "colab": {
          "base_uri": "https://localhost:8080/"
        },
        "id": "7VekTsum7YmU",
        "outputId": "be58363a-84fa-4cb4-f3cf-7fdb7cac7f18"
      },
      "execution_count": 16,
      "outputs": [
        {
          "output_type": "stream",
          "name": "stdout",
          "text": [
            "528.0\n"
          ]
        }
      ]
    },
    {
      "cell_type": "code",
      "source": [
        "# Function with no arguments\n",
        "def print_hello():\n",
        "  print(\"Hello, you! \")\n",
        "  print(\"Good Morning! \")\n",
        "\n",
        "print_hello()"
      ],
      "metadata": {
        "colab": {
          "base_uri": "https://localhost:8080/"
        },
        "id": "cy91KA8q7nJw",
        "outputId": "95f5e0a5-23e5-45fd-fed6-9f69e70f5c8c"
      },
      "execution_count": 17,
      "outputs": [
        {
          "output_type": "stream",
          "name": "stdout",
          "text": [
            "Hello, you! \n",
            "Good Morning! \n"
          ]
        }
      ]
    },
    {
      "cell_type": "markdown",
      "source": [
        "# Data Types"
      ],
      "metadata": {
        "id": "hiHI4n4iBavc"
      }
    },
    {
      "cell_type": "code",
      "source": [
        "#Integers\n",
        "x = 14\n",
        "print(x)\n",
        "print(type(x))"
      ],
      "metadata": {
        "colab": {
          "base_uri": "https://localhost:8080/"
        },
        "id": "JZlsN2FlBclD",
        "outputId": "e728fac2-a8f1-47e2-9d7e-6f4d6b292c31"
      },
      "execution_count": 18,
      "outputs": [
        {
          "output_type": "stream",
          "name": "stdout",
          "text": [
            "14\n",
            "<class 'int'>\n"
          ]
        }
      ]
    },
    {
      "cell_type": "code",
      "source": [
        "#Floats\n",
        "pi=3.14159265358979323846264338327950288419716\n",
        "print(pi)\n",
        "print(type(pi))\n",
        "\n",
        "#When divided it automatically converts to decimal.\n",
        "pi1=22/7\n",
        "print(pi1)\n",
        "print(type(pi1))\n",
        "\n",
        "frac=4/2\n",
        "print(frac)\n",
        "print(type(frac))\n",
        "\n",
        "\n",
        "#Rounding of\n",
        "ro_pi=round(pi, 5)\n",
        "print(ro_pi)\n",
        "print(type(ro_pi))\n",
        "\n",
        "#Assigning float for integers\n",
        "fl=1.0\n",
        "print(fl)\n",
        "print(type(fl))"
      ],
      "metadata": {
        "colab": {
          "base_uri": "https://localhost:8080/"
        },
        "id": "yB2ZlNYkM51z",
        "outputId": "91f23faa-ff17-49a0-ec02-5a331cfef0b1"
      },
      "execution_count": 19,
      "outputs": [
        {
          "output_type": "stream",
          "name": "stdout",
          "text": [
            "3.141592653589793\n",
            "<class 'float'>\n",
            "3.142857142857143\n",
            "<class 'float'>\n",
            "2.0\n",
            "<class 'float'>\n",
            "3.14159\n",
            "<class 'float'>\n",
            "1.0\n",
            "<class 'float'>\n"
          ]
        }
      ]
    },
    {
      "cell_type": "code",
      "source": [
        "#Booleans\n",
        "z_one=True\n",
        "print(z_one)\n",
        "print(type(z_one))\n",
        "\n",
        "#We can also use conditional statement\n",
        "z_two=(1>2)\n",
        "print(z_two)\n",
        "print(type(z_two))"
      ],
      "metadata": {
        "colab": {
          "base_uri": "https://localhost:8080/"
        },
        "id": "udB003IcOGkk",
        "outputId": "6f16cc09-cefc-4de5-8aba-e4fd32084d67"
      },
      "execution_count": 20,
      "outputs": [
        {
          "output_type": "stream",
          "name": "stdout",
          "text": [
            "True\n",
            "<class 'bool'>\n",
            "False\n",
            "<class 'bool'>\n"
          ]
        }
      ]
    },
    {
      "cell_type": "code",
      "source": [
        "#Strings\n",
        "w=\"Hello,World\"\n",
        "print(w)\n",
        "print(type(w))\n",
        "\n",
        "#To know length\n",
        "print(len(w))\n",
        "\n",
        "#Empty string\n",
        "st=\"\"\n",
        "print(type(st))\n",
        "print(len(st))\n",
        "\n",
        "#Anything inside \"\" is string\n",
        "my_num=\"123\"\n",
        "print(my_num)\n",
        "print(type(my_num))"
      ],
      "metadata": {
        "colab": {
          "base_uri": "https://localhost:8080/"
        },
        "id": "49HC8E0rOi5R",
        "outputId": "d01d0f02-7c21-48db-ebaa-5e340a72bb13"
      },
      "execution_count": 21,
      "outputs": [
        {
          "output_type": "stream",
          "name": "stdout",
          "text": [
            "Hello,World\n",
            "<class 'str'>\n",
            "11\n",
            "<class 'str'>\n",
            "0\n",
            "123\n",
            "<class 'str'>\n"
          ]
        }
      ]
    },
    {
      "cell_type": "code",
      "source": [
        "#Convertion of string into different datatypes\n",
        "fl1=float(\"1.23\")\n",
        "print(fl1)\n",
        "print(type(fl1))"
      ],
      "metadata": {
        "colab": {
          "base_uri": "https://localhost:8080/"
        },
        "id": "b2pjQAdWPSSG",
        "outputId": "1b47512c-b8d1-429b-ad33-59d815b332e9"
      },
      "execution_count": 22,
      "outputs": [
        {
          "output_type": "stream",
          "name": "stdout",
          "text": [
            "1.23\n",
            "<class 'float'>\n"
          ]
        }
      ]
    },
    {
      "cell_type": "code",
      "source": [
        "#Addition of string\n",
        "st1=\"abc\"\n",
        "st2=\"def\"\n",
        "newst=st1+st2\n",
        "print(newst)\n",
        "print(type(newst))\n",
        "\n",
        "#Multiplication of string\n",
        "st1=st1*3\n",
        "print(st1)"
      ],
      "metadata": {
        "colab": {
          "base_uri": "https://localhost:8080/"
        },
        "id": "SxjmMqN8PzMV",
        "outputId": "d8a9f0a2-348c-4519-be83-ad0bb3136cdc"
      },
      "execution_count": 23,
      "outputs": [
        {
          "output_type": "stream",
          "name": "stdout",
          "text": [
            "abcdef\n",
            "<class 'str'>\n",
            "abcabcabc\n"
          ]
        }
      ]
    },
    {
      "cell_type": "markdown",
      "source": [
        "#Condition and Conditional statements"
      ],
      "metadata": {
        "id": "PYLcP1cBTnOy"
      }
    },
    {
      "cell_type": "code",
      "source": [
        "print(2>3)"
      ],
      "metadata": {
        "colab": {
          "base_uri": "https://localhost:8080/"
        },
        "id": "6beat-6kTrVt",
        "outputId": "fac9ea8a-d4bc-4b4d-da3a-d52342a75ace"
      },
      "execution_count": 24,
      "outputs": [
        {
          "output_type": "stream",
          "name": "stdout",
          "text": [
            "False\n"
          ]
        }
      ]
    },
    {
      "cell_type": "markdown",
      "source": [
        "# List"
      ],
      "metadata": {
        "id": "CLbYXeXQAea3"
      }
    },
    {
      "cell_type": "code",
      "source": [
        "# Creating list\n",
        "\n",
        "flowers = [\"Rose\", \"Tulip\", \"Lily\", \"Daisy\", \"Carnation\", \"Orchid\", \"Freesia\", \"Hyacinth\", \"Iris\"]\n",
        "print(type(flowers))\n",
        "print(flowers)\n"
      ],
      "metadata": {
        "colab": {
          "base_uri": "https://localhost:8080/"
        },
        "id": "5h_l4BM_AgA6",
        "outputId": "41281b58-1c9f-4899-9fcc-9ff6451965f8"
      },
      "execution_count": 26,
      "outputs": [
        {
          "output_type": "stream",
          "name": "stdout",
          "text": [
            "<class 'list'>\n",
            "['Rose', 'Tulip', 'Lily', 'Daisy', 'Carnation', 'Orchid', 'Freesia', 'Hyacinth', 'Iris']\n"
          ]
        }
      ]
    },
    {
      "cell_type": "code",
      "source": [
        "#Length of list\n",
        "len(flowers)"
      ],
      "metadata": {
        "colab": {
          "base_uri": "https://localhost:8080/"
        },
        "id": "KMz-oJfyA7jl",
        "outputId": "08ef9866-61b7-443c-d548-c6852fdc8851"
      },
      "execution_count": 27,
      "outputs": [
        {
          "output_type": "execute_result",
          "data": {
            "text/plain": [
              "9"
            ]
          },
          "metadata": {},
          "execution_count": 27
        }
      ]
    },
    {
      "cell_type": "code",
      "source": [
        "#Indexing\n",
        "print(flowers[-1])\n",
        "print(flowers[0])"
      ],
      "metadata": {
        "colab": {
          "base_uri": "https://localhost:8080/"
        },
        "id": "-5T5r853BHQN",
        "outputId": "cdeb731e-6be3-446a-8b75-81869e0342c6"
      },
      "execution_count": 28,
      "outputs": [
        {
          "output_type": "stream",
          "name": "stdout",
          "text": [
            "Iris\n",
            "Rose\n"
          ]
        }
      ]
    },
    {
      "cell_type": "code",
      "source": [
        "# Slicing\n",
        "print(flowers[:3])\n",
        "print(flowers[-3:])\n",
        "print(flowers[3:7])\n",
        "print(flowers[-7:-4])"
      ],
      "metadata": {
        "colab": {
          "base_uri": "https://localhost:8080/"
        },
        "id": "EFMYzuJKBUgj",
        "outputId": "8df952c2-ebba-4524-b728-e16ab55256aa"
      },
      "execution_count": 32,
      "outputs": [
        {
          "output_type": "stream",
          "name": "stdout",
          "text": [
            "['Rose', 'Tulip', 'Lily']\n",
            "['Freesia', 'Hyacinth', 'Iris']\n",
            "['Daisy', 'Carnation', 'Orchid', 'Freesia']\n",
            "['Lily', 'Daisy', 'Carnation']\n"
          ]
        }
      ]
    },
    {
      "cell_type": "code",
      "source": [
        "# Removing\n",
        "flowers.remove(\"Lily\")\n",
        "print(flowers)"
      ],
      "metadata": {
        "colab": {
          "base_uri": "https://localhost:8080/"
        },
        "id": "lNqAuGEcBi5H",
        "outputId": "c1bebad1-da3a-41dc-a002-63761c1638f1"
      },
      "execution_count": 33,
      "outputs": [
        {
          "output_type": "stream",
          "name": "stdout",
          "text": [
            "['Rose', 'Tulip', 'Daisy', 'Carnation', 'Orchid', 'Freesia', 'Hyacinth', 'Iris']\n"
          ]
        }
      ]
    },
    {
      "cell_type": "code",
      "source": [
        "# Adding an element\n",
        "flowers.append(\"Lotus\")\n",
        "#flowers.remove(\"Lotus\")\n",
        "print(flowers)"
      ],
      "metadata": {
        "colab": {
          "base_uri": "https://localhost:8080/"
        },
        "id": "RAZ-oI1yCPMQ",
        "outputId": "a6af9631-b3ac-46a9-9746-99a6bdfc7398"
      },
      "execution_count": 40,
      "outputs": [
        {
          "output_type": "stream",
          "name": "stdout",
          "text": [
            "['Rose', 'Tulip', 'Daisy', 'Carnation', 'Orchid', 'Freesia', 'Hyacinth', 'Iris', 'Lotus']\n"
          ]
        }
      ]
    },
    {
      "cell_type": "code",
      "source": [
        "# It can also store other datatypes\n",
        "ll1=[12,45,82,11]\n",
        "print(ll1)"
      ],
      "metadata": {
        "colab": {
          "base_uri": "https://localhost:8080/"
        },
        "id": "f99A6IwnCl7y",
        "outputId": "dd8c219d-fe11-4e5d-a3ea-bc64efe44107"
      },
      "execution_count": 55,
      "outputs": [
        {
          "output_type": "stream",
          "name": "stdout",
          "text": [
            "[12, 45, 82, 11]\n"
          ]
        }
      ]
    },
    {
      "cell_type": "code",
      "source": [
        "# Maximum and minimum\n",
        "#ll1 = [1, 2, 3, 4, 5]\n",
        "from functools import reduce\n",
        "#print(reduce(min(ll1)))\n",
        "print(max(ll1))\n",
        "print(sum(ll1))"
      ],
      "metadata": {
        "colab": {
          "base_uri": "https://localhost:8080/"
        },
        "id": "ZD4TduTYEi6d",
        "outputId": "808cb48a-80fe-4e9d-a1d0-defcb71a257e"
      },
      "execution_count": 60,
      "outputs": [
        {
          "output_type": "stream",
          "name": "stdout",
          "text": [
            "82\n",
            "150\n"
          ]
        }
      ]
    }
  ]
}